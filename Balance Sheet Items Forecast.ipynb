{
 "cells": [
  {
   "cell_type": "markdown",
   "metadata": {},
   "source": [
    "# Balance Sheet Items Forecast\n",
    "## using Rebates Payable estimation as example"
   ]
  },
  {
   "cell_type": "markdown",
   "metadata": {},
   "source": [
    "[Catalyst Paper](https://www.catalystpaper.com/) produces diverse paper which it sales to retailers, publishers and commercial printers both through it own sales team and through the external agents. External agents have an advantage of being paid rebates periodically. Amounts of rebates are significant and being paid periodically (monthly, quarterly, etc.) make sufficient accrualed balances at the end of each period. So it perfectly make sence to estimate those balances of accrued and unpaid rebates for the purpose of cash flow management.\n",
    "\n",
    "We will use regression analysis over historical data in order to estimate rebates balances in the future.\n",
    "\n",
    "**And before we start I should mention all data used in this excercised was modified from original one, represents no actual data for any actual company and used for demonstration purposes only.**"
   ]
  },
  {
   "cell_type": "markdown",
   "metadata": {},
   "source": [
    "Starting with setting up the working environment for the job. Import neccessary libraries first."
   ]
  },
  {
   "cell_type": "code",
   "execution_count": 1,
   "metadata": {},
   "outputs": [],
   "source": [
    "import pandas as pd\n",
    "import numpy as np\n",
    "#import statsmodels.api as sm\n",
    "import statsmodels.formula.api as smf\n",
    "import matplotlib.pyplot as plt"
   ]
  },
  {
   "cell_type": "markdown",
   "metadata": {},
   "source": [
    "Obviously the size of commission depends from sales revenue. So, first let us see what is the correlation between those two."
   ]
  },
  {
   "cell_type": "code",
   "execution_count": 2,
   "metadata": {},
   "outputs": [
    {
     "name": "stdout",
     "output_type": "stream",
     "text": [
      "The correlation between Rebates Payable and Sales is 0.3219\n"
     ]
    }
   ],
   "source": [
    "# Read historical data on rebates payable and sales\n",
    "rebates_payable = pd.read_csv(\"rebates_payable.csv\")\n",
    "sales = pd.read_csv(\"sales.csv\")\n",
    "data = pd.merge(rebates_payable, sales, how='inner', on = 'Period')\n",
    "\n",
    "# Prepare data series and calculate correlation between them\n",
    "data['Sales'] = data['Sales'].astype(float)\n",
    "data['Rebates_Payable'] = data['Rebates_Payable'].astype(float)\n",
    "\n",
    "print('The correlation between Rebates Payable and Sales is ' +\n",
    "      str(round(np.corrcoef(data['Rebates_Payable'], data['Sales'])[1,0],4)))"
   ]
  },
  {
   "cell_type": "markdown",
   "metadata": {},
   "source": [
    "Good to start with. Let us see how we can improve the model in order to increas the predictive power of the model.\n",
    "If we think about that.. Being accrued for different periods like month, quarter, year, rebates got paid with different delay. Let us test different lagging for commision balance against sales and see which will return highest correlation coefficient."
   ]
  },
  {
   "cell_type": "code",
   "execution_count": 3,
   "metadata": {},
   "outputs": [],
   "source": [
    "# generate datasets with rebates payable lagged and put all datasets in a list\n",
    "alldata =[data]\n",
    "for lag in [1,2,3,4]:\n",
    "    data_lagged = pd.concat([data.drop(columns=['Sales']), data['Sales'].shift(lag)], axis = 1).dropna()\n",
    "    alldata.append(data_lagged)"
   ]
  },
  {
   "cell_type": "code",
   "execution_count": 4,
   "metadata": {},
   "outputs": [
    {
     "name": "stdout",
     "output_type": "stream",
     "text": [
      "0months lag: correlation coefficient = 0.3219\n",
      "1months lag: correlation coefficient = 0.4509\n",
      "2months lag: correlation coefficient = 0.47\n",
      "3months lag: correlation coefficient = 0.3211\n",
      "4months lag: correlation coefficient = 0.1763\n",
      "Hirest correlation of 0.47 returns dataset with 2 months lagging\n"
     ]
    }
   ],
   "source": [
    "# finding the lag providing the best result\n",
    "best_result = np.corrcoef(alldata[0]['Rebates_Payable'],alldata[0]['Sales'])[1,0]\n",
    "lagging = 0\n",
    "\n",
    "for dataset in alldata:\n",
    "    print(str(lagging) + 'months lag: correlation coefficient = ' + \n",
    "          str(round(np.corrcoef(dataset['Rebates_Payable'],dataset['Sales'])[1,0],4)))\n",
    "    lagging = lagging + 1\n",
    "    \n",
    "    if best_result < np.corrcoef(dataset['Rebates_Payable'],dataset['Sales'])[1,0]:\n",
    "        best_result = np.corrcoef(dataset['Rebates_Payable'],dataset['Sales'])[1,0]\n",
    "        bestlagging = lagging - 1\n",
    "\n",
    "data = alldata[bestlagging]\n",
    "\n",
    "print('Hirest correlation of ' + str(round(best_result,4)) + ' returns dataset with '+ str(bestlagging) + ' months lagging')"
   ]
  },
  {
   "cell_type": "markdown",
   "metadata": {},
   "source": [
    "Lagging of one variable against another significantly improved the model and increased correlation coefficient.\n",
    "We can further improve the predictive power of the model by brining additional variables to the consideration."
   ]
  },
  {
   "cell_type": "markdown",
   "metadata": {},
   "source": [
    "## Brining additional variables - Multiple Regression"
   ]
  },
  {
   "cell_type": "markdown",
   "metadata": {},
   "source": [
    "We could create a number of features and test its correlation against the raw data. However, it is alway good to ask a knowledgebale person. So instead of going purely statistical way we made a shortcut speaking with the subject mater expert from accounts payable department.\n",
    "She was kind describing the rebates progam to us and we learned there are three levels of rebates. Monthly paid say immediately after the end of the month. Quarterly paid at the month following the end of the quarter. Finaly, the annual ones paid in March following the reporting year."
   ]
  },
  {
   "cell_type": "code",
   "execution_count": 5,
   "metadata": {},
   "outputs": [],
   "source": [
    "Quarterly_payments = {'Jan': True, 'Feb': False, 'Mar': False, 'Apr': True, 'May': False, 'Jun': False,\n",
    "                     'Jul': True, 'Aug': False, 'Sep': False, 'Oct': True, 'Nov': False, 'Dec': False}\n",
    "Annual_rebate_accrual = {'Jan': 12, 'Feb': 1, 'Mar': 2, 'Apr': 3, 'May': 4, 'Jun': 5,\n",
    "                     'Jul': 6, 'Aug': 7, 'Sep': 8, 'Oct': 9, 'Nov': 10, 'Dec': 11}\n",
    "\n",
    "data['Mth'] = data['Period'].str.split('-')                            # Column we need temporarily\n",
    "data['Mth'] = data['Period'].str.split('-', expand = True)             \n",
    "\n",
    "data['Quarterly_payments'] = data['Mth'].map(Quarterly_payments)\n",
    "data['Annual_rebate_accrual'] = data['Mth'].map(Annual_rebate_accrual)\n",
    "\n",
    "data = data.drop(columns = ['Mth'])                                    # Do not need the column any more"
   ]
  },
  {
   "cell_type": "markdown",
   "metadata": {},
   "source": [
    "Extra data and methodology of multiple regression modeling drastically improved the predictive power of the model:"
   ]
  },
  {
   "cell_type": "code",
   "execution_count": 6,
   "metadata": {},
   "outputs": [
    {
     "name": "stdout",
     "output_type": "stream",
     "text": [
      "                            OLS Regression Results                            \n",
      "==============================================================================\n",
      "Dep. Variable:        Rebates_Payable   R-squared:                       0.797\n",
      "Model:                            OLS   Adj. R-squared:                  0.776\n",
      "Method:                 Least Squares   F-statistic:                     36.70\n",
      "Date:                Tue, 03 Apr 2018   Prob (F-statistic):           7.74e-10\n",
      "Time:                        15:40:36   Log-Likelihood:                -511.76\n",
      "No. Observations:                  32   AIC:                             1032.\n",
      "Df Residuals:                      28   BIC:                             1037.\n",
      "Df Model:                           3                                         \n",
      "Covariance Type:            nonrobust                                         \n",
      "==============================================================================================\n",
      "                                 coef    std err          t      P>|t|      [0.025      0.975]\n",
      "----------------------------------------------------------------------------------------------\n",
      "Intercept                   4.758e+06   6.09e+06      0.781      0.441   -7.72e+06    1.72e+07\n",
      "Quarterly_payments[T.True]  2.611e+06   8.67e+05      3.011      0.005    8.35e+05    4.39e+06\n",
      "Sales                          0.1270      0.043      2.954      0.006       0.039       0.215\n",
      "Annual_rebate_accrual       1.018e+06   1.34e+05      7.613      0.000    7.44e+05    1.29e+06\n",
      "==============================================================================\n",
      "Omnibus:                        4.878   Durbin-Watson:                   1.466\n",
      "Prob(Omnibus):                  0.087   Jarque-Bera (JB):                3.280\n",
      "Skew:                           0.647   Prob(JB):                        0.194\n",
      "Kurtosis:                       3.885   Cond. No.                     2.21e+09\n",
      "==============================================================================\n",
      "\n",
      "Warnings:\n",
      "[1] Standard Errors assume that the covariance matrix of the errors is correctly specified.\n",
      "[2] The condition number is large, 2.21e+09. This might indicate that there are\n",
      "strong multicollinearity or other numerical problems.\n"
     ]
    }
   ],
   "source": [
    "results = smf.ols('Rebates_Payable ~ Sales + Quarterly_payments + Annual_rebate_accrual', data = data).fit()\n",
    "print(results.summary())"
   ]
  },
  {
   "cell_type": "markdown",
   "metadata": {},
   "source": [
    "Usually we split the data sample into train and test portions. We did not do that here because the data sample is small. So we went with coefficients to use those for prediction of rebates balances in the future. After we had applied those coefficients making our predictions we were able to compare predicted balances with actuals and were pretty satisfied with the result."
   ]
  },
  {
   "cell_type": "markdown",
   "metadata": {},
   "source": [
    "**This project became a crucial contributor to the forecasting project, which is internally known in company as xModel."
   ]
  }
 ],
 "metadata": {
  "kernelspec": {
   "display_name": "Python 3",
   "language": "python",
   "name": "python3"
  },
  "language_info": {
   "codemirror_mode": {
    "name": "ipython",
    "version": 3
   },
   "file_extension": ".py",
   "mimetype": "text/x-python",
   "name": "python",
   "nbconvert_exporter": "python",
   "pygments_lexer": "ipython3",
   "version": "3.6.4"
  }
 },
 "nbformat": 4,
 "nbformat_minor": 2
}
